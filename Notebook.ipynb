{
 "cells": [
  {
   "cell_type": "markdown",
   "id": "c8ce3f93",
   "metadata": {},
   "source": [
    "## CSC555 - Final Project\n",
    "\n",
    "### Name: Lakshmi Sowjanya Gangumolu\n",
    "\n",
    "### Title: Predicting review score on Amazon product Data"
   ]
  },
  {
   "cell_type": "markdown",
   "id": "a1d9fb67",
   "metadata": {},
   "source": [
    "## Dataset Overview\n",
    "\n",
    "### Introduction\n",
    "The dataset utilized for this project is a collection of consumer reviews from Amazon. It encompasses various products reviewed by customers, capturing their feedback and ratings. The dataset was sourced from kaggle. The primary objective of this project is to predict the rating score (1 to 5) given by users to different products based on the review text and other features.\n",
    "\n",
    "#### Dataset Specifications\n",
    "\n",
    "- Total Records: 568,454\n",
    "- Total Columns: 10\n",
    "- File size: 300 MB\n",
    "\n",
    "#### Attributes\n",
    "\n",
    "- Id: Unique identifier for each review.\n",
    "- ProductId: Identifier for the reviewed product.\n",
    "- UserId: Identifier for the user who wrote the review.\n",
    "- ProfileName: Name of the user profile.\n",
    "- HelpfulnessNumerator: Number of users who found the review helpful.\n",
    "- HelpfulnessDenominator: Number of users who indicated whether the review was helpful.\n",
    "- Score: Rating given by the user (1 to 5).\n",
    "- Time: Timestamp for when the review was posted.\n",
    "- Summary: Brief summary or title of the review.\n",
    "- Text: Full text of the review.\n",
    "\n",
    "**Source** : https://www.kaggle.com/datasets/arhamrumi/amazon-product-reviews/data"
   ]
  },
  {
   "cell_type": "code",
   "execution_count": 5,
   "id": "38e06ddc",
   "metadata": {},
   "outputs": [
    {
     "data": {
      "application/vnd.jupyter.widget-view+json": {
       "model_id": "22a215b6d1be4222b65c49522f602593",
       "version_major": 2,
       "version_minor": 0
      },
      "text/plain": [
       "VBox()"
      ]
     },
     "metadata": {},
     "output_type": "display_data"
    },
    {
     "data": {
      "application/vnd.jupyter.widget-view+json": {
       "model_id": "",
       "version_major": 2,
       "version_minor": 0
      },
      "text/plain": [
       "FloatProgress(value=0.0, bar_style='info', description='Progress:', layout=Layout(height='25px', width='50%'),…"
      ]
     },
     "metadata": {},
     "output_type": "display_data"
    }
   ],
   "source": [
    "# Import necessary libraries\n",
    "from pyspark.sql import SparkSession\n",
    "from pyspark.sql.functions import col, count, when, isnan\n",
    "import seaborn as sns\n",
    "import pandas as pd\n",
    "import boto3\n",
    "import matplotlib.pyplot as plt\n",
    "import re\n",
    "\n",
    "# Initialize Spark session\n",
    "spark = SparkSession.builder \\\n",
    "    .appName(\"AmazonReviews\") \\\n",
    "    .getOrCreate()"
   ]
  },
  {
   "cell_type": "code",
   "execution_count": 7,
   "id": "6749a8a6",
   "metadata": {},
   "outputs": [
    {
     "data": {
      "application/vnd.jupyter.widget-view+json": {
       "model_id": "0b348450e11a4339b5285d52b60dcd10",
       "version_major": 2,
       "version_minor": 0
      },
      "text/plain": [
       "VBox()"
      ]
     },
     "metadata": {},
     "output_type": "display_data"
    },
    {
     "data": {
      "application/vnd.jupyter.widget-view+json": {
       "model_id": "",
       "version_major": 2,
       "version_minor": 0
      },
      "text/plain": [
       "FloatProgress(value=0.0, bar_style='info', description='Progress:', layout=Layout(height='25px', width='50%'),…"
      ]
     },
     "metadata": {},
     "output_type": "display_data"
    }
   ],
   "source": [
    "#Read data from S3 \n",
    "df = spark.read.csv(\"s3://lgangumo2/Reviews.csv\", header=True, inferSchema=True)\n"
   ]
  },
  {
   "cell_type": "markdown",
   "id": "c5607278",
   "metadata": {},
   "source": [
    "### Exploratory Data Analysis"
   ]
  },
  {
   "cell_type": "code",
   "execution_count": 8,
   "id": "a8e6ffa9",
   "metadata": {},
   "outputs": [
    {
     "data": {
      "application/vnd.jupyter.widget-view+json": {
       "model_id": "27e24e93339745c6be46a2ac34d18cbd",
       "version_major": 2,
       "version_minor": 0
      },
      "text/plain": [
       "VBox()"
      ]
     },
     "metadata": {},
     "output_type": "display_data"
    },
    {
     "data": {
      "application/vnd.jupyter.widget-view+json": {
       "model_id": "",
       "version_major": 2,
       "version_minor": 0
      },
      "text/plain": [
       "FloatProgress(value=0.0, bar_style='info', description='Progress:', layout=Layout(height='25px', width='50%'),…"
      ]
     },
     "metadata": {},
     "output_type": "display_data"
    },
    {
     "name": "stdout",
     "output_type": "stream",
     "text": [
      "root\n",
      " |-- Id: integer (nullable = true)\n",
      " |-- ProductId: string (nullable = true)\n",
      " |-- UserId: string (nullable = true)\n",
      " |-- ProfileName: string (nullable = true)\n",
      " |-- HelpfulnessNumerator: string (nullable = true)\n",
      " |-- HelpfulnessDenominator: string (nullable = true)\n",
      " |-- Score: string (nullable = true)\n",
      " |-- Time: string (nullable = true)\n",
      " |-- Summary: string (nullable = true)\n",
      " |-- Text: string (nullable = true)"
     ]
    }
   ],
   "source": [
    "#Schema of the dataset \n",
    "df.printSchema()"
   ]
  },
  {
   "cell_type": "code",
   "execution_count": 9,
   "id": "4c69ed04",
   "metadata": {},
   "outputs": [
    {
     "data": {
      "application/vnd.jupyter.widget-view+json": {
       "model_id": "f7d45405e38445d8a46b6d83cc1642fa",
       "version_major": 2,
       "version_minor": 0
      },
      "text/plain": [
       "VBox()"
      ]
     },
     "metadata": {},
     "output_type": "display_data"
    },
    {
     "data": {
      "application/vnd.jupyter.widget-view+json": {
       "model_id": "",
       "version_major": 2,
       "version_minor": 0
      },
      "text/plain": [
       "FloatProgress(value=0.0, bar_style='info', description='Progress:', layout=Layout(height='25px', width='50%'),…"
      ]
     },
     "metadata": {},
     "output_type": "display_data"
    },
    {
     "name": "stdout",
     "output_type": "stream",
     "text": [
      "+---+----------+--------------+--------------------+--------------------+----------------------+-----+----------+--------------------+--------------------+\n",
      "| Id| ProductId|        UserId|         ProfileName|HelpfulnessNumerator|HelpfulnessDenominator|Score|      Time|             Summary|                Text|\n",
      "+---+----------+--------------+--------------------+--------------------+----------------------+-----+----------+--------------------+--------------------+\n",
      "|  1|B001E4KFG0|A3SGXH7AUHU8GW|          delmartian|                   1|                     1|    5|1303862400|Good Quality Dog ...|I have bought sev...|\n",
      "|  2|B00813GRG4|A1D87F6ZCVE5NK|              dll pa|                   0|                     0|    1|1346976000|   Not as Advertised|\"Product arrived ...|\n",
      "|  3|B000LQOCH0| ABXLMWJIXXAIN|\"Natalia Corres \"...|                   1|                     1|    4|1219017600|\"\"\"Delight\"\" says...|\"This is a confec...|\n",
      "|  4|B000UA0QIQ|A395BORC6FGVXV|                Karl|                   3|                     3|    2|1307923200|      Cough Medicine|If you are lookin...|\n",
      "|  5|B006K2ZZ7K|A1UQRSCLF8GW1T|\"Michael D. Bigha...|                   0|                     0|    5|1350777600|         Great taffy|Great taffy at a ...|\n",
      "|  6|B006K2ZZ7K| ADT0SRK1MGOEU|      Twoapennything|                   0|                     0|    4|1342051200|          Nice Taffy|I got a wild hair...|\n",
      "+---+----------+--------------+--------------------+--------------------+----------------------+-----+----------+--------------------+--------------------+\n",
      "only showing top 6 rows"
     ]
    }
   ],
   "source": [
    "df.show(6)"
   ]
  },
  {
   "cell_type": "code",
   "execution_count": 10,
   "id": "3961b144",
   "metadata": {},
   "outputs": [
    {
     "data": {
      "application/vnd.jupyter.widget-view+json": {
       "model_id": "26d49a155f2f4bd8893510ab1fdfe778",
       "version_major": 2,
       "version_minor": 0
      },
      "text/plain": [
       "VBox()"
      ]
     },
     "metadata": {},
     "output_type": "display_data"
    },
    {
     "data": {
      "application/vnd.jupyter.widget-view+json": {
       "model_id": "",
       "version_major": 2,
       "version_minor": 0
      },
      "text/plain": [
       "FloatProgress(value=0.0, bar_style='info', description='Progress:', layout=Layout(height='25px', width='50%'),…"
      ]
     },
     "metadata": {},
     "output_type": "display_data"
    },
    {
     "name": "stdout",
     "output_type": "stream",
     "text": [
      "Total number of records: 568454"
     ]
    }
   ],
   "source": [
    "# Count the number of records\n",
    "record_count = df.count()\n",
    "print(f\"Total number of records: {record_count}\")"
   ]
  },
  {
   "cell_type": "code",
   "execution_count": 14,
   "id": "4f10a5a5",
   "metadata": {},
   "outputs": [
    {
     "data": {
      "application/vnd.jupyter.widget-view+json": {
       "model_id": "18f508b692ac42db8e03f762cf37c2d5",
       "version_major": 2,
       "version_minor": 0
      },
      "text/plain": [
       "VBox()"
      ]
     },
     "metadata": {},
     "output_type": "display_data"
    },
    {
     "data": {
      "application/vnd.jupyter.widget-view+json": {
       "model_id": "",
       "version_major": 2,
       "version_minor": 0
      },
      "text/plain": [
       "FloatProgress(value=0.0, bar_style='info', description='Progress:', layout=Layout(height='25px', width='50%'),…"
      ]
     },
     "metadata": {},
     "output_type": "display_data"
    },
    {
     "name": "stdout",
     "output_type": "stream",
     "text": [
      "+-------+--------------------+----------------------+-----------------+\n",
      "|summary|HelpfulnessNumerator|HelpfulnessDenominator|            Score|\n",
      "+-------+--------------------+----------------------+-----------------+\n",
      "|  count|              568452|                568452|           568451|\n",
      "|   mean|  1.7404362359754146|    2.2252822569278043|4.176305349530591|\n",
      "| stddev|   7.641562467566166|     8.287606784659728|1.383877970723668|\n",
      "|    min|            Judie\"\"\"|            & Books\"\"\"|             ...\"|\n",
      "|    max|                wife|               fur-mom|  book-blogger\"\"\"|\n",
      "+-------+--------------------+----------------------+-----------------+"
     ]
    }
   ],
   "source": [
    "# Summary statistics for numerical columns\n",
    "df.describe([\"HelpfulnessNumerator\", \"HelpfulnessDenominator\", \"Score\"]).show()"
   ]
  },
  {
   "cell_type": "markdown",
   "id": "d8913324",
   "metadata": {},
   "source": [
    "It seems there are issues with the dataset where non-numeric values are present in the HelpfulnessNumerator, HelpfulnessDenominator, and Score columns, which should contain numeric values."
   ]
  },
  {
   "cell_type": "markdown",
   "id": "d382fc26",
   "metadata": {},
   "source": [
    "### Data preprocessing"
   ]
  },
  {
   "cell_type": "code",
   "execution_count": 15,
   "id": "f46d8047",
   "metadata": {},
   "outputs": [
    {
     "data": {
      "application/vnd.jupyter.widget-view+json": {
       "model_id": "9523755679814fd6bc57d155e2d47050",
       "version_major": 2,
       "version_minor": 0
      },
      "text/plain": [
       "VBox()"
      ]
     },
     "metadata": {},
     "output_type": "display_data"
    },
    {
     "data": {
      "application/vnd.jupyter.widget-view+json": {
       "model_id": "",
       "version_major": 2,
       "version_minor": 0
      },
      "text/plain": [
       "FloatProgress(value=0.0, bar_style='info', description='Progress:', layout=Layout(height='25px', width='50%'),…"
      ]
     },
     "metadata": {},
     "output_type": "display_data"
    }
   ],
   "source": [
    "from pyspark.sql.functions import udf\n",
    "from pyspark.sql.types import BooleanType, DoubleType, IntegerType\n",
    "# Function to filter out non-numeric values\n",
    "def is_number(s):\n",
    "    try:\n",
    "        float(s)\n",
    "        return True\n",
    "    except ValueError:\n",
    "        return False\n",
    "\n",
    "# Register the UDF\n",
    "is_number_udf = udf(is_number, BooleanType())\n",
    "\n",
    "# Filter out rows with non-numeric values in numeric columns\n",
    "df_filtered = df.filter(\n",
    "    is_number_udf(col(\"HelpfulnessNumerator\")) &\n",
    "    is_number_udf(col(\"HelpfulnessDenominator\")) &\n",
    "    is_number_udf(col(\"Score\"))\n",
    ")\n",
    "\n",
    "\n",
    "# Convert columns to appropriate data types\n",
    "df_filtered = df_filtered.withColumn(\"HelpfulnessNumerator\", col(\"HelpfulnessNumerator\").cast(IntegerType()))\n",
    "df_filtered = df_filtered.withColumn(\"HelpfulnessDenominator\", col(\"HelpfulnessDenominator\").cast(IntegerType()))\n",
    "df_filtered = df_filtered.withColumn(\"Score\", col(\"Score\").cast(DoubleType()))\n"
   ]
  },
  {
   "cell_type": "code",
   "execution_count": 16,
   "id": "a6fe2a3b",
   "metadata": {},
   "outputs": [
    {
     "data": {
      "application/vnd.jupyter.widget-view+json": {
       "model_id": "633e1b95040a44958471dd09043fc7cf",
       "version_major": 2,
       "version_minor": 0
      },
      "text/plain": [
       "VBox()"
      ]
     },
     "metadata": {},
     "output_type": "display_data"
    },
    {
     "data": {
      "application/vnd.jupyter.widget-view+json": {
       "model_id": "",
       "version_major": 2,
       "version_minor": 0
      },
      "text/plain": [
       "FloatProgress(value=0.0, bar_style='info', description='Progress:', layout=Layout(height='25px', width='50%'),…"
      ]
     },
     "metadata": {},
     "output_type": "display_data"
    }
   ],
   "source": [
    "# Drop rows with missing values\n",
    "df_clean = df_filtered.dropna()"
   ]
  },
  {
   "cell_type": "markdown",
   "id": "0e91a028",
   "metadata": {},
   "source": [
    "Let us review the summmary statistics after cleaning the data"
   ]
  },
  {
   "cell_type": "code",
   "execution_count": 18,
   "id": "422a78b4",
   "metadata": {},
   "outputs": [
    {
     "data": {
      "application/vnd.jupyter.widget-view+json": {
       "model_id": "308df09f27b94bd8964088a4fc37d8f3",
       "version_major": 2,
       "version_minor": 0
      },
      "text/plain": [
       "VBox()"
      ]
     },
     "metadata": {},
     "output_type": "display_data"
    },
    {
     "data": {
      "application/vnd.jupyter.widget-view+json": {
       "model_id": "",
       "version_major": 2,
       "version_minor": 0
      },
      "text/plain": [
       "FloatProgress(value=0.0, bar_style='info', description='Progress:', layout=Layout(height='25px', width='50%'),…"
      ]
     },
     "metadata": {},
     "output_type": "display_data"
    },
    {
     "name": "stdout",
     "output_type": "stream",
     "text": [
      "+-------+--------------------+----------------------+-----------------+\n",
      "|summary|HelpfulnessNumerator|HelpfulnessDenominator|            Score|\n",
      "+-------+--------------------+----------------------+-----------------+\n",
      "|  count|              565703|                565703|           565703|\n",
      "|   mean|  1.7404362359754146|     2.225236564062768|4.183195068790514|\n",
      "| stddev|   7.641562467566166|       8.2938265948621|1.311116531273438|\n",
      "|    min|                   0|                     0|              1.0|\n",
      "|    max|                 866|                   923|              5.0|\n",
      "+-------+--------------------+----------------------+-----------------+"
     ]
    }
   ],
   "source": [
    "# Summary statistics for numerical columns after cleaning\n",
    "df_clean.describe([\"HelpfulnessNumerator\", \"HelpfulnessDenominator\", \"Score\"]).show()"
   ]
  },
  {
   "cell_type": "code",
   "execution_count": 23,
   "id": "c3d55b36",
   "metadata": {},
   "outputs": [
    {
     "data": {
      "application/vnd.jupyter.widget-view+json": {
       "model_id": "eb777d1de5fb41e3a540b4dc2d4f3346",
       "version_major": 2,
       "version_minor": 0
      },
      "text/plain": [
       "VBox()"
      ]
     },
     "metadata": {},
     "output_type": "display_data"
    },
    {
     "data": {
      "application/vnd.jupyter.widget-view+json": {
       "model_id": "",
       "version_major": 2,
       "version_minor": 0
      },
      "text/plain": [
       "FloatProgress(value=0.0, bar_style='info', description='Progress:', layout=Layout(height='25px', width='50%'),…"
      ]
     },
     "metadata": {},
     "output_type": "display_data"
    },
    {
     "name": "stdout",
     "output_type": "stream",
     "text": [
      "Total number of records after cleaning: 565703"
     ]
    }
   ],
   "source": [
    "# Count the number of records after cleaning\n",
    "record_count = df_clean.count()\n",
    "print(f\"Total number of records after cleaning: {record_count}\")"
   ]
  },
  {
   "cell_type": "code",
   "execution_count": 24,
   "id": "8403d4a2",
   "metadata": {},
   "outputs": [
    {
     "data": {
      "application/vnd.jupyter.widget-view+json": {
       "model_id": "cadad774439b4969924e8f5b7f2dd78a",
       "version_major": 2,
       "version_minor": 0
      },
      "text/plain": [
       "VBox()"
      ]
     },
     "metadata": {},
     "output_type": "display_data"
    },
    {
     "data": {
      "application/vnd.jupyter.widget-view+json": {
       "model_id": "",
       "version_major": 2,
       "version_minor": 0
      },
      "text/plain": [
       "FloatProgress(value=0.0, bar_style='info', description='Progress:', layout=Layout(height='25px', width='50%'),…"
      ]
     },
     "metadata": {},
     "output_type": "display_data"
    }
   ],
   "source": [
    "# Extract the Score column\n",
    "scores = df_clean.select(\"Score\").collect()\n",
    "\n",
    "# Convert to a flat list\n",
    "scores = [row.Score for row in scores]\n",
    "\n",
    "scores_df = pd.DataFrame(scores, columns=[\"Score\"])\n",
    "\n"
   ]
  },
  {
   "cell_type": "code",
   "execution_count": 25,
   "id": "dbdf7dbd",
   "metadata": {},
   "outputs": [
    {
     "data": {
      "application/vnd.jupyter.widget-view+json": {
       "model_id": "c82159ea08be4974be878d00b5a1f042",
       "version_major": 2,
       "version_minor": 0
      },
      "text/plain": [
       "VBox()"
      ]
     },
     "metadata": {},
     "output_type": "display_data"
    },
    {
     "data": {
      "application/vnd.jupyter.widget-view+json": {
       "model_id": "",
       "version_major": 2,
       "version_minor": 0
      },
      "text/plain": [
       "FloatProgress(value=0.0, bar_style='info', description='Progress:', layout=Layout(height='25px', width='50%'),…"
      ]
     },
     "metadata": {},
     "output_type": "display_data"
    },
    {
     "data": {
      "image/png": "[encoded data removed]",
      "text/plain": [
       "<IPython.core.display.Image object>"
      ]
     },
     "metadata": {},
     "output_type": "display_data"
    }
   ],
   "source": [
    "# Plotting the histogram\n",
    "plt.figure(figsize=(10, 6))\n",
    "sns.histplot(scores_df, x=\"Score\", bins=5, kde=False)\n",
    "plt.title('Distribution of Scores')\n",
    "plt.xlabel('Score')\n",
    "plt.ylabel('Frequency')\n",
    "#plt.xticks(range(1, 6))  \n",
    "plt.show()\n",
    "%matplot plt"
   ]
  },
  {
   "cell_type": "markdown",
   "id": "37a75727",
   "metadata": {},
   "source": [
    "We can see that most of the reviews are positive"
   ]
  },
  {
   "cell_type": "code",
   "execution_count": 14,
   "id": "6acf2172",
   "metadata": {},
   "outputs": [
    {
     "data": {
      "application/vnd.jupyter.widget-view+json": {
       "model_id": "3a5ec83d3c7d487c8a9183438834139f",
       "version_major": 2,
       "version_minor": 0
      },
      "text/plain": [
       "VBox()"
      ]
     },
     "metadata": {},
     "output_type": "display_data"
    },
    {
     "data": {
      "application/vnd.jupyter.widget-view+json": {
       "model_id": "",
       "version_major": 2,
       "version_minor": 0
      },
      "text/plain": [
       "FloatProgress(value=0.0, bar_style='info', description='Progress:', layout=Layout(height='25px', width='50%'),…"
      ]
     },
     "metadata": {},
     "output_type": "display_data"
    }
   ],
   "source": [
    "import re\n",
    "# Normalize text: convert to lowercase and remove special characters\n",
    "def normalize_text(text):\n",
    "    return re.sub(r\"[^a-z0-9\\s]\", \"\", text.lower())\n",
    "\n",
    "normalize_udf = udf(normalize_text)\n",
    "\n",
    "df_clean = df_clean.withColumn(\"Summary\", normalize_udf(col(\"Summary\")))\n",
    "df_clean = df_clean.withColumn(\"Text\", normalize_udf(col(\"Text\")))"
   ]
  },
  {
   "cell_type": "markdown",
   "id": "b4f7f9a1",
   "metadata": {},
   "source": [
    "Creating a new column \"HelpfulnessRatio\" "
   ]
  },
  {
   "cell_type": "code",
   "execution_count": 26,
   "id": "67f72f5c",
   "metadata": {},
   "outputs": [
    {
     "data": {
      "application/vnd.jupyter.widget-view+json": {
       "model_id": "b64f482276814a1dbfc77332c0dcab13",
       "version_major": 2,
       "version_minor": 0
      },
      "text/plain": [
       "VBox()"
      ]
     },
     "metadata": {},
     "output_type": "display_data"
    },
    {
     "data": {
      "application/vnd.jupyter.widget-view+json": {
       "model_id": "",
       "version_major": 2,
       "version_minor": 0
      },
      "text/plain": [
       "FloatProgress(value=0.0, bar_style='info', description='Progress:', layout=Layout(height='25px', width='50%'),…"
      ]
     },
     "metadata": {},
     "output_type": "display_data"
    }
   ],
   "source": [
    "# Calculate helpfulness ratio\n",
    "df_clean = df_clean.withColumn(\n",
    "    \"HelpfulnessRatio\", \n",
    "    (col(\"HelpfulnessNumerator\") / col(\"HelpfulnessDenominator\")).cast(DoubleType())\n",
    ")"
   ]
  },
  {
   "cell_type": "code",
   "execution_count": 27,
   "id": "053ab2ec",
   "metadata": {},
   "outputs": [
    {
     "data": {
      "application/vnd.jupyter.widget-view+json": {
       "model_id": "bbebc30816614df393d9fd75030324e1",
       "version_major": 2,
       "version_minor": 0
      },
      "text/plain": [
       "VBox()"
      ]
     },
     "metadata": {},
     "output_type": "display_data"
    },
    {
     "data": {
      "application/vnd.jupyter.widget-view+json": {
       "model_id": "",
       "version_major": 2,
       "version_minor": 0
      },
      "text/plain": [
       "FloatProgress(value=0.0, bar_style='info', description='Progress:', layout=Layout(height='25px', width='50%'),…"
      ]
     },
     "metadata": {},
     "output_type": "display_data"
    }
   ],
   "source": [
    "# Replace infinite values in helpfulness ratio with null\n",
    "df_clean = df_clean.replace(float(\"inf\"), None)\n",
    "\n",
    "# Drop rows where HelpfulnessRatio is null\n",
    "df_clean = df_clean.dropna(subset=[\"HelpfulnessRatio\"])"
   ]
  },
  {
   "cell_type": "markdown",
   "id": "8e53019a",
   "metadata": {},
   "source": [
    "Distribution of Helpfulness ratio"
   ]
  },
  {
   "cell_type": "code",
   "execution_count": 33,
   "id": "b03f9d86",
   "metadata": {},
   "outputs": [
    {
     "data": {
      "application/vnd.jupyter.widget-view+json": {
       "model_id": "b7d5a754ad7f4fe2b4efa27f3398f226",
       "version_major": 2,
       "version_minor": 0
      },
      "text/plain": [
       "VBox()"
      ]
     },
     "metadata": {},
     "output_type": "display_data"
    },
    {
     "data": {
      "application/vnd.jupyter.widget-view+json": {
       "model_id": "",
       "version_major": 2,
       "version_minor": 0
      },
      "text/plain": [
       "FloatProgress(value=0.0, bar_style='info', description='Progress:', layout=Layout(height='25px', width='50%'),…"
      ]
     },
     "metadata": {},
     "output_type": "display_data"
    },
    {
     "data": {
      "image/png": "[encoded data removed]",
      "text/plain": [
       "<IPython.core.display.Image object>"
      ]
     },
     "metadata": {},
     "output_type": "display_data"
    }
   ],
   "source": [
    "helpfulness_ratio = df_clean.select(\"HelpfulnessRatio\").toPandas()\n",
    "\n",
    "# Plotting the histogram or count plot\n",
    "plt.figure(figsize=(10, 6))\n",
    "plt.hist(helpfulness_ratio['HelpfulnessRatio'], bins=30, color='skyblue', edgecolor='black')\n",
    "plt.title('Histogram of Helpfulness Ratio')\n",
    "plt.xlabel('Helpfulness Ratio')\n",
    "plt.ylabel('Frequency')\n",
    "plt.grid(True)\n",
    "plt.show()\n",
    "%matplot plt"
   ]
  },
  {
   "cell_type": "code",
   "execution_count": 28,
   "id": "199adb91",
   "metadata": {},
   "outputs": [
    {
     "data": {
      "application/vnd.jupyter.widget-view+json": {
       "model_id": "1e9edf1f537643acad8ae56c4f73a60b",
       "version_major": 2,
       "version_minor": 0
      },
      "text/plain": [
       "VBox()"
      ]
     },
     "metadata": {},
     "output_type": "display_data"
    },
    {
     "data": {
      "application/vnd.jupyter.widget-view+json": {
       "model_id": "",
       "version_major": 2,
       "version_minor": 0
      },
      "text/plain": [
       "FloatProgress(value=0.0, bar_style='info', description='Progress:', layout=Layout(height='25px', width='50%'),…"
      ]
     },
     "metadata": {},
     "output_type": "display_data"
    }
   ],
   "source": [
    "from pyspark.sql.functions import length\n",
    "# Add length of review text as a feature\n",
    "df_clean = df_clean.withColumn(\"TextLength\", length(col(\"Text\")).cast(IntegerType()))\n"
   ]
  },
  {
   "cell_type": "code",
   "execution_count": 29,
   "id": "d4acfbfd",
   "metadata": {},
   "outputs": [
    {
     "data": {
      "application/vnd.jupyter.widget-view+json": {
       "model_id": "e13da1beaa044561a7546c8590006e34",
       "version_major": 2,
       "version_minor": 0
      },
      "text/plain": [
       "VBox()"
      ]
     },
     "metadata": {},
     "output_type": "display_data"
    },
    {
     "data": {
      "application/vnd.jupyter.widget-view+json": {
       "model_id": "",
       "version_major": 2,
       "version_minor": 0
      },
      "text/plain": [
       "FloatProgress(value=0.0, bar_style='info', description='Progress:', layout=Layout(height='25px', width='50%'),…"
      ]
     },
     "metadata": {},
     "output_type": "display_data"
    },
    {
     "name": "stdout",
     "output_type": "stream",
     "text": [
      "root\n",
      " |-- Id: integer (nullable = true)\n",
      " |-- ProductId: string (nullable = true)\n",
      " |-- UserId: string (nullable = true)\n",
      " |-- ProfileName: string (nullable = true)\n",
      " |-- HelpfulnessNumerator: integer (nullable = true)\n",
      " |-- HelpfulnessDenominator: integer (nullable = true)\n",
      " |-- Score: double (nullable = true)\n",
      " |-- Time: string (nullable = true)\n",
      " |-- Summary: string (nullable = true)\n",
      " |-- Text: string (nullable = true)\n",
      " |-- HelpfulnessRatio: double (nullable = true)\n",
      " |-- TextLength: integer (nullable = true)"
     ]
    }
   ],
   "source": [
    "# Show schema of the cleaned dataset\n",
    "df_clean.printSchema()"
   ]
  },
  {
   "cell_type": "markdown",
   "id": "078cf262",
   "metadata": {},
   "source": [
    "### Storing transformed data in S3"
   ]
  },
  {
   "cell_type": "code",
   "execution_count": 52,
   "id": "d9aa0e8b",
   "metadata": {},
   "outputs": [
    {
     "data": {
      "application/vnd.jupyter.widget-view+json": {
       "model_id": "7023d0d7c413493b86785af89c8f4408",
       "version_major": 2,
       "version_minor": 0
      },
      "text/plain": [
       "VBox()"
      ]
     },
     "metadata": {},
     "output_type": "display_data"
    },
    {
     "data": {
      "application/vnd.jupyter.widget-view+json": {
       "model_id": "",
       "version_major": 2,
       "version_minor": 0
      },
      "text/plain": [
       "FloatProgress(value=0.0, bar_style='info', description='Progress:', layout=Layout(height='25px', width='50%'),…"
      ]
     },
     "metadata": {},
     "output_type": "display_data"
    },
    {
     "name": "stdout",
     "output_type": "stream",
     "text": [
      "Transformed data successfully written to S3 as a single CSV file."
     ]
    }
   ],
   "source": [
    "# Reduce the number of partitions to 1\n",
    "df_transformed_coalesced = df_clean.coalesce(1)\n",
    "\n",
    "# Path to save transformed data\n",
    "transformed_data_path = \"s3://lgangumo2/transformed/\"\n",
    "\n",
    "# Write the transformed data to S3 in CSV format\n",
    "df_transformed_coalesced.write.csv(transformed_data_path, mode='overwrite', header=False)\n",
    "\n",
    "print(\"Transformed data successfully written to S3 as a single CSV file.\")"
   ]
  },
  {
   "cell_type": "markdown",
   "id": "ced391ed",
   "metadata": {},
   "source": [
    "### Creating table in Athena"
   ]
  },
  {
   "cell_type": "code",
   "execution_count": null,
   "id": "c6779239",
   "metadata": {},
   "outputs": [
    {
     "data": {
      "application/vnd.jupyter.widget-view+json": {
       "model_id": "a3424dfac0354f0abf8312f279836d73",
       "version_major": 2,
       "version_minor": 0
      },
      "text/plain": [
       "VBox()"
      ]
     },
     "metadata": {},
     "output_type": "display_data"
    },
    {
     "data": {
      "application/vnd.jupyter.widget-view+json": {
       "model_id": "",
       "version_major": 2,
       "version_minor": 0
      },
      "text/plain": [
       "FloatProgress(value=0.0, bar_style='info', description='Progress:', layout=Layout(height='25px', width='50%'),…"
      ]
     },
     "metadata": {},
     "output_type": "display_data"
    }
   ],
   "source": [
    "DATABASE_NAME = \"default\"\n",
    "TABLE_NAME = \"amazon_review_data\"\n",
    "AWS_REGION = 'us-east-1'\n",
    "\n",
    "athena = boto3.client('athena', \n",
    "    aws_access_key_id='*****************',\n",
    "    aws_secret_access_key='***************',\n",
    "    aws_session_token='****************',\n",
    "    region_name = AWS_REGION)"
   ]
  },
  {
   "cell_type": "code",
   "execution_count": 73,
   "id": "9319beac",
   "metadata": {},
   "outputs": [
    {
     "data": {
      "application/vnd.jupyter.widget-view+json": {
       "model_id": "b50932474bc04109b92b631ac7c14624",
       "version_major": 2,
       "version_minor": 0
      },
      "text/plain": [
       "VBox()"
      ]
     },
     "metadata": {},
     "output_type": "display_data"
    },
    {
     "data": {
      "application/vnd.jupyter.widget-view+json": {
       "model_id": "",
       "version_major": 2,
       "version_minor": 0
      },
      "text/plain": [
       "FloatProgress(value=0.0, bar_style='info', description='Progress:', layout=Layout(height='25px', width='50%'),…"
      ]
     },
     "metadata": {},
     "output_type": "display_data"
    }
   ],
   "source": [
    "# SQL query to create external table in Athena\n",
    "create_table_query = f\"\"\"\n",
    "CREATE EXTERNAL TABLE IF NOT EXISTS {DATABASE_NAME}.{TABLE_NAME} (\n",
    "    Id STRING,\n",
    "    ProductId STRING,\n",
    "    UserId STRING,\n",
    "    ProfileName STRING,\n",
    "    HelpfulnessNumerator INT,\n",
    "    HelpfulnessDenominator INT,\n",
    "    Score INT,\n",
    "    Time INT,\n",
    "    Summary STRING,\n",
    "    Text STRING,\n",
    "    ReviewDate DATE,\n",
    "    HelpfulnessRatio DOUBLE,\n",
    "    TextLength INT\n",
    ")\n",
    "ROW FORMAT DELIMITED\n",
    "FIELDS TERMINATED BY ','\n",
    "LOCATION 's3://lgangumo2/transformed/'\n",
    "\"\"\""
   ]
  },
  {
   "cell_type": "code",
   "execution_count": 74,
   "id": "4d1abf75",
   "metadata": {},
   "outputs": [
    {
     "data": {
      "application/vnd.jupyter.widget-view+json": {
       "model_id": "30532338e0f5422484f8294203a08d42",
       "version_major": 2,
       "version_minor": 0
      },
      "text/plain": [
       "VBox()"
      ]
     },
     "metadata": {},
     "output_type": "display_data"
    },
    {
     "data": {
      "application/vnd.jupyter.widget-view+json": {
       "model_id": "",
       "version_major": 2,
       "version_minor": 0
      },
      "text/plain": [
       "FloatProgress(value=0.0, bar_style='info', description='Progress:', layout=Layout(height='25px', width='50%'),…"
      ]
     },
     "metadata": {},
     "output_type": "display_data"
    },
    {
     "name": "stdout",
     "output_type": "stream",
     "text": [
      "\"CREATE EXTERNAL TABLE IF NOT EXISTS default.amazon_review_data (\\n    Id STRING,\\n    ProductId STRING,\\n    UserId STRING,\\n    ProfileName STRING,\\n    HelpfulnessNumerator INT,\\n    HelpfulnessDenominator INT,\\n    Score INT,\\n    Time INT,\\n    Summary STRING,\\n    Text STRING,\\n    ReviewDate DATE,\\n    HelpfulnessRatio DOUBLE,\\n    TextLength INT\\n)\\nROW FORMAT DELIMITED\\nFIELDS TERMINATED BY ','\\nLOCATION 's3://lgangumo2/transformed/'\""
     ]
    }
   ],
   "source": [
    "create_table_query.strip()"
   ]
  },
  {
   "cell_type": "code",
   "execution_count": 75,
   "id": "299b2cb7",
   "metadata": {},
   "outputs": [
    {
     "data": {
      "application/vnd.jupyter.widget-view+json": {
       "model_id": "9f3ec1e45e7544029f2263277be5c53c",
       "version_major": 2,
       "version_minor": 0
      },
      "text/plain": [
       "VBox()"
      ]
     },
     "metadata": {},
     "output_type": "display_data"
    },
    {
     "data": {
      "application/vnd.jupyter.widget-view+json": {
       "model_id": "",
       "version_major": 2,
       "version_minor": 0
      },
      "text/plain": [
       "FloatProgress(value=0.0, bar_style='info', description='Progress:', layout=Layout(height='25px', width='50%'),…"
      ]
     },
     "metadata": {},
     "output_type": "display_data"
    },
    {
     "name": "stdout",
     "output_type": "stream",
     "text": [
      "Athena table creation query submitted."
     ]
    }
   ],
   "source": [
    "response = athena.start_query_execution(\n",
    "    QueryString = create_table_query.strip(),\n",
    "    QueryExecutionContext = {'Database': DATABASE_NAME},\n",
    "ResultConfiguration={'OutputLocation': f's3://lgangumo2/query_results/'}\n",
    ")\n",
    "\n",
    "print(\"Athena table creation query submitted.\")"
   ]
  },
  {
   "cell_type": "code",
   "execution_count": 70,
   "id": "0dfa4206",
   "metadata": {},
   "outputs": [
    {
     "data": {
      "application/vnd.jupyter.widget-view+json": {
       "model_id": "f6671b92737f47e694f72ce2f584c297",
       "version_major": 2,
       "version_minor": 0
      },
      "text/plain": [
       "VBox()"
      ]
     },
     "metadata": {},
     "output_type": "display_data"
    },
    {
     "data": {
      "application/vnd.jupyter.widget-view+json": {
       "model_id": "",
       "version_major": 2,
       "version_minor": 0
      },
      "text/plain": [
       "FloatProgress(value=0.0, bar_style='info', description='Progress:', layout=Layout(height='25px', width='50%'),…"
      ]
     },
     "metadata": {},
     "output_type": "display_data"
    },
    {
     "name": "stdout",
     "output_type": "stream",
     "text": [
      "{'QueryExecutionId': '5b363b61-9f1e-4f86-95b9-190e6a48f49a', 'ResponseMetadata': {'RequestId': '22aa3295-654c-4f5e-90bc-714796cf45fe', 'HTTPStatusCode': 200, 'HTTPHeaders': {'date': 'Fri, 14 Jun 2024 00:55:18 GMT', 'content-type': 'application/x-amz-json-1.1', 'content-length': '59', 'connection': 'keep-alive', 'x-amzn-requestid': '22aa3295-654c-4f5e-90bc-714796cf45fe'}, 'RetryAttempts': 0}}"
     ]
    }
   ],
   "source": [
    "response"
   ]
  },
  {
   "cell_type": "code",
   "execution_count": 87,
   "id": "55d6f6b9",
   "metadata": {},
   "outputs": [
    {
     "data": {
      "application/vnd.jupyter.widget-view+json": {
       "model_id": "79bb481dc58046f4b10f392d7dfa91fe",
       "version_major": 2,
       "version_minor": 0
      },
      "text/plain": [
       "VBox()"
      ]
     },
     "metadata": {},
     "output_type": "display_data"
    },
    {
     "data": {
      "application/vnd.jupyter.widget-view+json": {
       "model_id": "",
       "version_major": 2,
       "version_minor": 0
      },
      "text/plain": [
       "FloatProgress(value=0.0, bar_style='info', description='Progress:', layout=Layout(height='25px', width='50%'),…"
      ]
     },
     "metadata": {},
     "output_type": "display_data"
    },
    {
     "name": "stdout",
     "output_type": "stream",
     "text": [
      "{'QueryExecution': {'QueryExecutionId': '55dcbb5e-0625-49b4-9344-0ab360239df8', 'Query': 'SELECT * FROM \"default\".\"amazon_review_data\" limit 10', 'StatementType': 'DML', 'ResultConfiguration': {'OutputLocation': 's3://lgangumo2/query_results/55dcbb5e-0625-49b4-9344-0ab360239df8.csv'}, 'ResultReuseConfiguration': {'ResultReuseByAgeConfiguration': {'Enabled': False}}, 'QueryExecutionContext': {'Database': 'default'}, 'Status': {'State': 'SUCCEEDED', 'SubmissionDateTime': datetime.datetime(2024, 6, 14, 1, 8, 30, 164000, tzinfo=tzlocal()), 'CompletionDateTime': datetime.datetime(2024, 6, 14, 1, 8, 31, 146000, tzinfo=tzlocal())}, 'Statistics': {'EngineExecutionTimeInMillis': 744, 'DataScannedInBytes': 1937525, 'TotalExecutionTimeInMillis': 982, 'QueryQueueTimeInMillis': 140, 'ServicePreProcessingTimeInMillis': 75, 'QueryPlanningTimeInMillis': 74, 'ServiceProcessingTimeInMillis': 23, 'ResultReuseInformation': {'ReusedPreviousResult': False}}, 'WorkGroup': 'primary', 'EngineVersion': {'SelectedEngineVersion': 'AUTO', 'EffectiveEngineVersion': 'Athena engine version 3'}, 'SubstatementType': 'SELECT'}, 'ResponseMetadata': {'RequestId': 'abeb9079-da0d-4e23-af38-aad657b91bf6', 'HTTPStatusCode': 200, 'HTTPHeaders': {'date': 'Fri, 14 Jun 2024 01:17:23 GMT', 'content-type': 'application/x-amz-json-1.1', 'content-length': '1695', 'connection': 'keep-alive', 'x-amzn-requestid': 'abeb9079-da0d-4e23-af38-aad657b91bf6'}, 'RetryAttempts': 0}}"
     ]
    }
   ],
   "source": [
    "athena.get_query_execution(\n",
    "    QueryExecutionId=response['QueryExecutionId']\n",
    ")"
   ]
  },
  {
   "cell_type": "markdown",
   "id": "caaad581",
   "metadata": {},
   "source": [
    "The Status is 'SUCCEEDED'. Hence, the data is sucessfully loaded to athena"
   ]
  },
  {
   "cell_type": "code",
   "execution_count": 77,
   "id": "e19014e4",
   "metadata": {},
   "outputs": [
    {
     "data": {
      "application/vnd.jupyter.widget-view+json": {
       "model_id": "03808cd3f9eb462a9016eac2e07633e7",
       "version_major": 2,
       "version_minor": 0
      },
      "text/plain": [
       "VBox()"
      ]
     },
     "metadata": {},
     "output_type": "display_data"
    },
    {
     "data": {
      "application/vnd.jupyter.widget-view+json": {
       "model_id": "",
       "version_major": 2,
       "version_minor": 0
      },
      "text/plain": [
       "FloatProgress(value=0.0, bar_style='info', description='Progress:', layout=Layout(height='25px', width='50%'),…"
      ]
     },
     "metadata": {},
     "output_type": "display_data"
    }
   ],
   "source": [
    "select_query = 'SELECT * FROM \"default\".\"amazon_review_data\" limit 10;'"
   ]
  },
  {
   "cell_type": "code",
   "execution_count": 79,
   "id": "6284d9ef",
   "metadata": {},
   "outputs": [
    {
     "data": {
      "application/vnd.jupyter.widget-view+json": {
       "model_id": "fd56c462ccc940e1b456aac60e4e4ddf",
       "version_major": 2,
       "version_minor": 0
      },
      "text/plain": [
       "VBox()"
      ]
     },
     "metadata": {},
     "output_type": "display_data"
    },
    {
     "data": {
      "application/vnd.jupyter.widget-view+json": {
       "model_id": "",
       "version_major": 2,
       "version_minor": 0
      },
      "text/plain": [
       "FloatProgress(value=0.0, bar_style='info', description='Progress:', layout=Layout(height='25px', width='50%'),…"
      ]
     },
     "metadata": {},
     "output_type": "display_data"
    }
   ],
   "source": [
    "response = athena.start_query_execution(\n",
    "    QueryString = select_query.strip(),\n",
    "    QueryExecutionContext = {'Database': DATABASE_NAME},\n",
    "ResultConfiguration={'OutputLocation': f's3://lgangumo2/query_results/'}\n",
    ")\n",
    "\n"
   ]
  },
  {
   "cell_type": "code",
   "execution_count": 82,
   "id": "e00bd4bf",
   "metadata": {},
   "outputs": [
    {
     "data": {
      "application/vnd.jupyter.widget-view+json": {
       "model_id": "9c244204c7e34e4ebee7131ac4c33171",
       "version_major": 2,
       "version_minor": 0
      },
      "text/plain": [
       "VBox()"
      ]
     },
     "metadata": {},
     "output_type": "display_data"
    },
    {
     "data": {
      "application/vnd.jupyter.widget-view+json": {
       "model_id": "",
       "version_major": 2,
       "version_minor": 0
      },
      "text/plain": [
       "FloatProgress(value=0.0, bar_style='info', description='Progress:', layout=Layout(height='25px', width='50%'),…"
      ]
     },
     "metadata": {},
     "output_type": "display_data"
    },
    {
     "name": "stdout",
     "output_type": "stream",
     "text": [
      "[{'VarCharValue': 'id'}, {'VarCharValue': 'productid'}, {'VarCharValue': 'userid'}, {'VarCharValue': 'profilename'}, {'VarCharValue': 'helpfulnessnumerator'}, {'VarCharValue': 'helpfulnessdenominator'}, {'VarCharValue': 'score'}, {'VarCharValue': 'time'}, {'VarCharValue': 'summary'}, {'VarCharValue': 'text'}, {'VarCharValue': 'reviewdate'}, {'VarCharValue': 'helpfulnessratio'}, {'VarCharValue': 'textlength'}]\n",
      "[{'VarCharValue': '464903'}, {'VarCharValue': 'B000LKVIVE'}, {'VarCharValue': 'A1LEW4AOCFJLDO'}, {'VarCharValue': 'Calvin Clift'}, {'VarCharValue': '0'}, {'VarCharValue': '7'}, {'VarCharValue': '1'}, {'VarCharValue': '1252800000'}, {'VarCharValue': 'Awful'}, {'VarCharValue': '\"I like exotic flavors but this is just bad'}, {}, {'VarCharValue': '0.0'}, {'VarCharValue': '105'}]\n",
      "[{'VarCharValue': '464905'}, {'VarCharValue': 'B000CPYVGM'}, {'VarCharValue': 'A2M6L21T224FF8'}, {'VarCharValue': '\"\\\\\"Sandra Wood \\\\\"\\\\\"morda02\\\\\"\\\\\"\\\\\"\"'}, {'VarCharValue': '7'}, {'VarCharValue': '7'}, {'VarCharValue': '5'}, {'VarCharValue': '1244764800'}, {'VarCharValue': 'THE Best Place To Buy Vanilla Beans!!!!!!!!!'}, {'VarCharValue': '\"This is my second purchase from Arizona Vanilla and I am very pleased with the vanilla beans that I have ordered from them.  The beans are very fresh & fragrant'}, {}, {}, {'VarCharValue': '1'}]\n",
      "[{'VarCharValue': '464906'}, {'VarCharValue': 'B000CPYVGM'}, {'VarCharValue': 'A2MJ8OL2FYN7CW'}, {'VarCharValue': 'Lynne E.'}, {'VarCharValue': '5'}, {'VarCharValue': '5'}, {'VarCharValue': '5'}, {'VarCharValue': '1320624000'}, {'VarCharValue': 'Mexican Vanilla Beans Live Up to Their Reputation'}, {'VarCharValue': '\"\\\\\"Whole vanilla beans come in three \\\\\"\\\\\"flavors\\\\\"\\\\\":  Mexican\"'}, {}, {'VarCharValue': '56.0'}, {}]\n",
      "[{'VarCharValue': '464907'}, {'VarCharValue': 'B000CPYVGM'}, {'VarCharValue': 'A1P186Q24R5X8H'}, {'VarCharValue': 'T. Robison'}, {'VarCharValue': '1'}, {'VarCharValue': '1'}, {'VarCharValue': '3'}, {'VarCharValue': '1319500800'}, {'VarCharValue': \"Didn't seem very fresh.\"}, {'VarCharValue': '\"These beans were not plump and soft and poignant'}, {}, {}, {}]\n",
      "[{'VarCharValue': '464908'}, {'VarCharValue': 'B000CPYVGM'}, {'VarCharValue': 'A174KTJLMRQE46'}, {'VarCharValue': 'ameerh'}, {'VarCharValue': '1'}, {'VarCharValue': '3'}, {'VarCharValue': '1'}, {'VarCharValue': '1332460800'}, {'VarCharValue': 'I did not like'}, {'VarCharValue': 'Do not have a strong odor or smell Alvanlia appear in cakes<br />And very few in number and their price is high<br />I did not like'}, {}, {'VarCharValue': '131.0'}, {}]\n",
      "[{'VarCharValue': '464909'}, {'VarCharValue': 'B000CPYVGM'}, {'VarCharValue': 'A56Z4L13E0PQ9'}, {'VarCharValue': '\"\\\\\"Gilda Barnes \\\\\"\\\\\"Butterfly Hunter\\\\\"\\\\\"\\\\\"\"'}, {'VarCharValue': '0'}, {'VarCharValue': '15'}, {'VarCharValue': '2'}, {'VarCharValue': '1317600000'}, {'VarCharValue': '\"\\\\\"\\\\\"\\\\\"Arazona Vanilla\\\\\"\\\\\" is  \\\\\"\\\\\"Halaleveryday\\\\\"\\\\\"\\\\\"\"'}, {'VarCharValue': 'The Mexican beans that I ordered from Arizona Vanilla Co. came from a company called Halal Everyday. Halal means lawful or clean according to Islamic law. I am not Muslim and feel that failing to disclose the fact that food/food products are prepared according to religious laws that I do not accept is a fraud. Arizona should state that their products are Halal for the benefit of all their customers Muslim and non-Muslim.'}, {}, {'VarCharValue': '424.0'}, {}]\n",
      "[{'VarCharValue': '464910'}, {'VarCharValue': 'B0017SRAC0'}, {'VarCharValue': 'A3L0WC0QXRQ1SV'}, {'VarCharValue': 'Tracy'}, {'VarCharValue': '1'}, {'VarCharValue': '1'}, {'VarCharValue': '4'}, {'VarCharValue': '1285891200'}, {'VarCharValue': 'Great Product'}, {'VarCharValue': '\"I bought this to try in my bread recipe that calls for liquid honey.  It is so much easier to bake with honey powder.  As it states'}, {}, {'VarCharValue': '1.0'}, {'VarCharValue': '255'}]\n",
      "[{'VarCharValue': '464912'}, {'VarCharValue': 'B000RHUYAW'}, {'VarCharValue': 'A1BVE2ZIBKJ7YI'}, {'VarCharValue': '\"\\\\\"roaeja \\\\\"\\\\\"Hey you!\\\\\"\\\\\"\\\\\"\"'}, {'VarCharValue': '6'}, {'VarCharValue': '6'}, {'VarCharValue': '5'}, {'VarCharValue': '1282953600'}, {'VarCharValue': 'Healthy and crunchy. Speedy service.  Order 25lb bag.'}, {'VarCharValue': '\"\\\\\"I was a little hesitant about ordering purple sticky rice; until'}, {}, {}, {}]\n",
      "[{'VarCharValue': '464913'}, {'VarCharValue': 'B000V5IMSQ'}, {'VarCharValue': 'A3HPCRD9RX351S'}, {'VarCharValue': 'Spudman'}, {'VarCharValue': '10'}, {'VarCharValue': '11'}, {'VarCharValue': '5'}, {'VarCharValue': '1293408000'}, {'VarCharValue': 'Hummus on Crackers'}, {'VarCharValue': '\"Since this is/was  my first experience tasting hummus'}, {}, {}, {}]\n",
      "[{'VarCharValue': '464914'}, {'VarCharValue': 'B000V5IMSQ'}, {'VarCharValue': 'A15S9OH2IG6VVD'}, {'VarCharValue': 'betweenthepages'}, {'VarCharValue': '6'}, {'VarCharValue': '6'}, {'VarCharValue': '5'}, {'VarCharValue': '1333152000'}, {'VarCharValue': \"Best packaged hummus I've EVER tried.\"}, {'VarCharValue': '\"I\\'ve had a lot of store-bought hummus over the years'}, {}, {'VarCharValue': '1.0'}, {'VarCharValue': '351'}]"
     ]
    }
   ],
   "source": [
    "result_response = athena.get_query_results(QueryExecutionId=response['QueryExecutionId'])\n",
    "for row in result_response['ResultSet']['Rows']:\n",
    "    print(row['Data'])"
   ]
  },
  {
   "cell_type": "code",
   "execution_count": 92,
   "id": "1c481d22",
   "metadata": {},
   "outputs": [
    {
     "data": {
      "application/vnd.jupyter.widget-view+json": {
       "model_id": "17e7fa01925a4501b770c645ca081071",
       "version_major": 2,
       "version_minor": 0
      },
      "text/plain": [
       "VBox()"
      ]
     },
     "metadata": {},
     "output_type": "display_data"
    },
    {
     "data": {
      "application/vnd.jupyter.widget-view+json": {
       "model_id": "",
       "version_major": 2,
       "version_minor": 0
      },
      "text/plain": [
       "FloatProgress(value=0.0, bar_style='info', description='Progress:', layout=Layout(height='25px', width='50%'),…"
      ]
     },
     "metadata": {},
     "output_type": "display_data"
    },
    {
     "name": "stdout",
     "output_type": "stream",
     "text": [
      "       id   productid          userid  ... reviewdate helpfulnessratio textlength\n",
      "0  464903  B000LKVIVE  A1LEW4AOCFJLDO  ...       None              0.0        105\n",
      "1  464905  B000CPYVGM  A2M6L21T224FF8  ...       None             None          1\n",
      "2  464906  B000CPYVGM  A2MJ8OL2FYN7CW  ...       None             56.0       None\n",
      "3  464907  B000CPYVGM  A1P186Q24R5X8H  ...       None             None       None\n",
      "4  464908  B000CPYVGM  A174KTJLMRQE46  ...       None            131.0       None\n",
      "\n",
      "[5 rows x 13 columns]"
     ]
    }
   ],
   "source": [
    "column_names = [col['VarCharValue'] for col in result_response['ResultSet']['Rows'][0]['Data']]\n",
    "\n",
    "# Extract data starting from the second row in the result response\n",
    "data = [row['Data'] for row in result_response['ResultSet']['Rows'][1:]]\n",
    "\n",
    "# Convert data to a list of lists, extracting each value from the dictionary\n",
    "data_values = [[item.get('VarCharValue', None) for item in row] for row in data]\n",
    "\n",
    "# Create Pandas DataFrame\n",
    "df_athena = pd.DataFrame(data_values, columns=column_names)\n",
    "\n",
    "# Display the first few rows of the DataFrame\n",
    "print(df_athena.head())"
   ]
  },
  {
   "cell_type": "markdown",
   "id": "9e84c8d6",
   "metadata": {},
   "source": [
    "Successufully created athena table and loaded the transformed data into it."
   ]
  },
  {
   "cell_type": "markdown",
   "id": "edfa4acb",
   "metadata": {},
   "source": [
    "### Preparing data for Machine learning model"
   ]
  },
  {
   "cell_type": "code",
   "execution_count": 30,
   "id": "8f115bf9",
   "metadata": {},
   "outputs": [
    {
     "data": {
      "application/vnd.jupyter.widget-view+json": {
       "model_id": "e617a111d7f841e080d150443d8b3e46",
       "version_major": 2,
       "version_minor": 0
      },
      "text/plain": [
       "VBox()"
      ]
     },
     "metadata": {},
     "output_type": "display_data"
    },
    {
     "data": {
      "application/vnd.jupyter.widget-view+json": {
       "model_id": "",
       "version_major": 2,
       "version_minor": 0
      },
      "text/plain": [
       "FloatProgress(value=0.0, bar_style='info', description='Progress:', layout=Layout(height='25px', width='50%'),…"
      ]
     },
     "metadata": {},
     "output_type": "display_data"
    }
   ],
   "source": [
    "from pyspark.ml.feature import Tokenizer, StopWordsRemover, CountVectorizer, IDF\n",
    "from pyspark.ml.classification import LogisticRegression\n",
    "from pyspark.ml import Pipeline\n",
    "from pyspark.ml.evaluation import MulticlassClassificationEvaluator\n",
    "import re\n",
    "\n"
   ]
  },
  {
   "cell_type": "code",
   "execution_count": 31,
   "id": "046cb8e7",
   "metadata": {},
   "outputs": [
    {
     "data": {
      "application/vnd.jupyter.widget-view+json": {
       "model_id": "abb52e3bb06142679460bad3258a643a",
       "version_major": 2,
       "version_minor": 0
      },
      "text/plain": [
       "VBox()"
      ]
     },
     "metadata": {},
     "output_type": "display_data"
    },
    {
     "data": {
      "application/vnd.jupyter.widget-view+json": {
       "model_id": "",
       "version_major": 2,
       "version_minor": 0
      },
      "text/plain": [
       "FloatProgress(value=0.0, bar_style='info', description='Progress:', layout=Layout(height='25px', width='50%'),…"
      ]
     },
     "metadata": {},
     "output_type": "display_data"
    }
   ],
   "source": [
    "# Tokenization and TF-IDF\n",
    "tokenizer = Tokenizer(inputCol=\"Text\", outputCol=\"words\")\n",
    "remover = StopWordsRemover(inputCol=\"words\", outputCol=\"filtered\")\n",
    "vectorizer = CountVectorizer(inputCol=\"filtered\", outputCol=\"rawFeatures\")\n",
    "idf = IDF(inputCol=\"rawFeatures\", outputCol=\"features\")"
   ]
  },
  {
   "cell_type": "markdown",
   "id": "40497a12",
   "metadata": {},
   "source": [
    "### Logistic Regression classifier - Predict Score"
   ]
  },
  {
   "cell_type": "markdown",
   "id": "a5a6294e",
   "metadata": {},
   "source": [
    "We will predicting Score based on other features"
   ]
  },
  {
   "cell_type": "code",
   "execution_count": 34,
   "id": "83b34aa1",
   "metadata": {},
   "outputs": [
    {
     "data": {
      "application/vnd.jupyter.widget-view+json": {
       "model_id": "befd7e902c4b40038562924b68f31d57",
       "version_major": 2,
       "version_minor": 0
      },
      "text/plain": [
       "VBox()"
      ]
     },
     "metadata": {},
     "output_type": "display_data"
    },
    {
     "data": {
      "application/vnd.jupyter.widget-view+json": {
       "model_id": "",
       "version_major": 2,
       "version_minor": 0
      },
      "text/plain": [
       "FloatProgress(value=0.0, bar_style='info', description='Progress:', layout=Layout(height='25px', width='50%'),…"
      ]
     },
     "metadata": {},
     "output_type": "display_data"
    }
   ],
   "source": [
    "# Define classifier\n",
    "lr = LogisticRegression(labelCol=\"Score\", featuresCol=\"features\")\n",
    "\n",
    "# Define pipeline\n",
    "pipeline = Pipeline(stages=[tokenizer, remover, vectorizer, idf, lr])\n",
    "\n",
    "# Split data\n",
    "train, test = df_clean.randomSplit([0.8, 0.2], seed=42)"
   ]
  },
  {
   "cell_type": "code",
   "execution_count": 35,
   "id": "25240be9",
   "metadata": {},
   "outputs": [
    {
     "data": {
      "application/vnd.jupyter.widget-view+json": {
       "model_id": "80a8b7226a8349888ce48a34b0e1a3db",
       "version_major": 2,
       "version_minor": 0
      },
      "text/plain": [
       "VBox()"
      ]
     },
     "metadata": {},
     "output_type": "display_data"
    },
    {
     "data": {
      "application/vnd.jupyter.widget-view+json": {
       "model_id": "",
       "version_major": 2,
       "version_minor": 0
      },
      "text/plain": [
       "FloatProgress(value=0.0, bar_style='info', description='Progress:', layout=Layout(height='25px', width='50%'),…"
      ]
     },
     "metadata": {},
     "output_type": "display_data"
    },
    {
     "name": "stdout",
     "output_type": "stream",
     "text": [
      "Train Accuracy: 0.9962756836690414\n",
      "Test Accuracy: 0.7100696196145697\n",
      "Precision: 0.7286889509701862\n",
      "Recall: 0.7100696196145697\n",
      "F1-score: 0.7177328472745879"
     ]
    }
   ],
   "source": [
    "# Train model\n",
    "model = pipeline.fit(train)\n",
    "\n",
    "# Make predictions on train data\n",
    "train_predictions = model.transform(train)\n",
    "\n",
    "# Evaluate train accuracy\n",
    "evaluator_train = MulticlassClassificationEvaluator(labelCol=\"Score\", predictionCol=\"prediction\", metricName=\"accuracy\")\n",
    "train_accuracy = evaluator_train.evaluate(train_predictions)\n",
    "print(f\"Train Accuracy: {train_accuracy}\")\n",
    "\n",
    "# Make predictions on test data\n",
    "test_predictions = model.transform(test)\n",
    "\n",
    "# Evaluate test accuracy\n",
    "evaluator_test = MulticlassClassificationEvaluator(labelCol=\"Score\", predictionCol=\"prediction\", metricName=\"accuracy\")\n",
    "test_accuracy = evaluator_test.evaluate(test_predictions)\n",
    "print(f\"Test Accuracy: {test_accuracy}\")\n",
    "\n",
    "# Print other metrics (precision, recall, f1-score)\n",
    "precision = evaluator_test.evaluate(test_predictions, {evaluator_test.metricName: \"weightedPrecision\"})\n",
    "recall = evaluator_test.evaluate(test_predictions, {evaluator_test.metricName: \"weightedRecall\"})\n",
    "f1_score = evaluator_test.evaluate(test_predictions, {evaluator_test.metricName: \"f1\"})\n",
    "print(f\"Precision: {precision}\")\n",
    "print(f\"Recall: {recall}\")\n",
    "print(f\"F1-score: {f1_score}\")\n",
    "\n"
   ]
  },
  {
   "cell_type": "markdown",
   "id": "ceb6d0ba",
   "metadata": {},
   "source": [
    "The trained logistic regression model achieved high accuracy on the training data (99.63%), indicating a good fit. However, its performance on unseen test data was lower (71.01%), suggesting some overfitting. Precision, recall, and F1-score metrics also reflect reasonable model performance in classifying Amazon product review scores based on textual content."
   ]
  },
  {
   "cell_type": "markdown",
   "id": "9bd20f3d",
   "metadata": {},
   "source": [
    "#### Saving the model to S3 bucket"
   ]
  },
  {
   "cell_type": "code",
   "execution_count": 51,
   "id": "2f06ec8a",
   "metadata": {},
   "outputs": [
    {
     "data": {
      "application/vnd.jupyter.widget-view+json": {
       "model_id": "74c1e7e5f19f43e28c4b076778b0ebc6",
       "version_major": 2,
       "version_minor": 0
      },
      "text/plain": [
       "VBox()"
      ]
     },
     "metadata": {},
     "output_type": "display_data"
    },
    {
     "data": {
      "application/vnd.jupyter.widget-view+json": {
       "model_id": "",
       "version_major": 2,
       "version_minor": 0
      },
      "text/plain": [
       "FloatProgress(value=0.0, bar_style='info', description='Progress:', layout=Layout(height='25px', width='50%'),…"
      ]
     },
     "metadata": {},
     "output_type": "display_data"
    }
   ],
   "source": [
    "model.save(\"s3a://lgangumo2/amazon_review/lr_model/\")\n"
   ]
  },
  {
   "cell_type": "markdown",
   "id": "57ba79b5",
   "metadata": {},
   "source": [
    "### Visualizing the results"
   ]
  },
  {
   "cell_type": "code",
   "execution_count": 29,
   "id": "340d04fb",
   "metadata": {},
   "outputs": [
    {
     "data": {
      "application/vnd.jupyter.widget-view+json": {
       "model_id": "236333c544fc49f7bfea3be5811a1f27",
       "version_major": 2,
       "version_minor": 0
      },
      "text/plain": [
       "VBox()"
      ]
     },
     "metadata": {},
     "output_type": "display_data"
    },
    {
     "data": {
      "application/vnd.jupyter.widget-view+json": {
       "model_id": "",
       "version_major": 2,
       "version_minor": 0
      },
      "text/plain": [
       "FloatProgress(value=0.0, bar_style='info', description='Progress:', layout=Layout(height='25px', width='50%'),…"
      ]
     },
     "metadata": {},
     "output_type": "display_data"
    }
   ],
   "source": [
    "import matplotlib.pyplot as plt\n",
    "\n",
    "# Example data\n",
    "metrics = ['Accuracy', 'Precision', 'Recall', 'F1-score']\n",
    "scores = [test_accuracy, precision, recall, f1_score]\n",
    "\n",
    "# Plotting the scores\n",
    "plt.figure(figsize=(10, 6))\n",
    "plt.bar(metrics, scores, color='skyblue')\n",
    "plt.title('Performance Metrics of Logistic Regression')\n",
    "plt.xlabel('Metrics')\n",
    "plt.ylabel('Score')\n",
    "plt.ylim(0, 1)  # Assuming scores are between 0 and 1\n",
    "plt.show()"
   ]
  },
  {
   "cell_type": "code",
   "execution_count": 30,
   "id": "1f49126f",
   "metadata": {},
   "outputs": [
    {
     "data": {
      "application/vnd.jupyter.widget-view+json": {
       "model_id": "",
       "version_major": 2,
       "version_minor": 0
      },
      "text/plain": [
       "FloatProgress(value=0.0, bar_style='info', description='Progress:', layout=Layout(height='25px', width='50%'),…"
      ]
     },
     "metadata": {},
     "output_type": "display_data"
    },
    {
     "data": {
      "image/png": "[encoded data removed]",
      "text/plain": [
       "<IPython.core.display.Image object>"
      ]
     },
     "metadata": {},
     "output_type": "display_data"
    }
   ],
   "source": [
    "%matplot plt"
   ]
  },
  {
   "cell_type": "markdown",
   "id": "4268404a",
   "metadata": {},
   "source": [
    "#### Confusion matrix"
   ]
  },
  {
   "cell_type": "code",
   "execution_count": 42,
   "id": "df3e72a4",
   "metadata": {},
   "outputs": [
    {
     "data": {
      "application/vnd.jupyter.widget-view+json": {
       "model_id": "d13277b6686c4903966784fb7abb91e7",
       "version_major": 2,
       "version_minor": 0
      },
      "text/plain": [
       "VBox()"
      ]
     },
     "metadata": {},
     "output_type": "display_data"
    },
    {
     "data": {
      "application/vnd.jupyter.widget-view+json": {
       "model_id": "",
       "version_major": 2,
       "version_minor": 0
      },
      "text/plain": [
       "FloatProgress(value=0.0, bar_style='info', description='Progress:', layout=Layout(height='25px', width='50%'),…"
      ]
     },
     "metadata": {},
     "output_type": "display_data"
    }
   ],
   "source": [
    "import numpy as np\n",
    "from sklearn.metrics import confusion_matrix\n",
    "\n",
    "# Assuming you have the predictions and actual labels\n",
    "predictions = test_predictions.select('prediction').rdd.map(lambda row: row[0]).collect()\n",
    "labels = test_predictions.select('Score').rdd.map(lambda row: row[0]).collect()\n",
    "\n",
    "# Compute confusion matrix\n",
    "cm = confusion_matrix(labels, predictions)\n",
    "\n",
    "# Plotting the confusion matrix\n",
    "plt.figure(figsize=(8, 6))\n",
    "sns.heatmap(cm, annot=True, cmap='Blues', fmt='g', xticklabels=['1', '2', '3', '4', '5'], yticklabels=['1', '2', '3', '4', '5'])\n",
    "plt.title('Confusion Matrix')\n",
    "plt.xlabel('Predicted')\n",
    "plt.ylabel('Actual')\n",
    "plt.show()"
   ]
  },
  {
   "cell_type": "code",
   "execution_count": 43,
   "id": "9a7a827b",
   "metadata": {},
   "outputs": [
    {
     "data": {
      "application/vnd.jupyter.widget-view+json": {
       "model_id": "",
       "version_major": 2,
       "version_minor": 0
      },
      "text/plain": [
       "FloatProgress(value=0.0, bar_style='info', description='Progress:', layout=Layout(height='25px', width='50%'),…"
      ]
     },
     "metadata": {},
     "output_type": "display_data"
    },
    {
     "data": {
      "image/png": "[encoded data removed]",
      "text/plain": [
       "<IPython.core.display.Image object>"
      ]
     },
     "metadata": {},
     "output_type": "display_data"
    }
   ],
   "source": [
    "%matplot plt"
   ]
  },
  {
   "cell_type": "markdown",
   "id": "65ee2ed8",
   "metadata": {},
   "source": [
    "The confusion matrix displays how well a model predicts Amazon review scores, ranging from 1 to 5. The matrix highlights the model's strength in predicting Class 5 reviews (28,148 correct predictions), indicating a high frequency or better accuracy for this score. However, there are noticeable misclassifications across all classes, with significant errors particularly for predictions involving Class 1 and Class 5, suggesting some bias or difficulty in distinguishing between extreme scores. Overall, the model demonstrates varying degrees of accuracy across different review scores, excelling at Class 5 predictions but struggling with others, which could suggest a skew in the dataset or model towards more positive reviews."
   ]
  },
  {
   "cell_type": "markdown",
   "id": "533026fa",
   "metadata": {},
   "source": [
    "### Visualizations\n",
    "Visualizations such as bar plots for performance metrics (Accuracy, Precision, Recall, F1-score) and a confusion matrix were created to better understand and interpret the model's results. The confusion matrix highlighted the model's strength in predicting Class 5 reviews but showed challenges in accurately predicting Classes 1 and 2.\n",
    "\n",
    "### Conclusion\n",
    "\n",
    "In conclusion, this project successfully processed and transformed a vast Amazon review dataset using PySpark, ensuring data quality and consistency through rigorous preprocessing steps. The cleaned data was efficiently staged in Amazon S3 and structured into an Athena table.\n",
    "\n",
    "While the logistic regression model demonstrated strong predictive capabilities for certain review scores, it showed limitations in distinguishing between lower ratings (Classes 1 and 2). This suggests potential areas for model improvement, such as incorporating additional features or exploring different algorithms better suited for handling imbalanced classes.\n",
    "\n",
    "Furthermore, the insights gained from this analysis can assist Amazon in understanding customer sentiment and improving product offerings based on customer feedback.\n",
    "\n",
    "Overall, the project highlights the application of machine learning techniques using pySPark MLlib in analyzing large-scale review datasets, offering valuable insights into customer preferences and opinions."
   ]
  }
 ],
 "metadata": {
  "kernelspec": {
   "display_name": "PySpark",
   "language": "python",
   "name": "pysparkkernel"
  },
  "language_info": {
   "codemirror_mode": {
    "name": "python",
    "version": 3
   },
   "file_extension": ".py",
   "mimetype": "text/x-python",
   "name": "pyspark",
   "pygments_lexer": "python3"
  }
 },
 "nbformat": 4,
 "nbformat_minor": 5
}
